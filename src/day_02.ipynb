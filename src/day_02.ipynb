{
 "cells": [
  {
   "cell_type": "markdown",
   "metadata": {},
   "source": [
    "# AOC Day 2!\n",
    "\n",
    "### Hannah Valenty"
   ]
  },
  {
   "cell_type": "markdown",
   "metadata": {},
   "source": [
    "Checking to be sure all levels (row) in the text file are increasing or decreasing gradually.\n",
    "\n",
    "* Adjacent levels can differ by at least one and at most three (changing by 1-3).\n",
    "* Also cannot have numbers that neither increase nor decrease."
   ]
  },
  {
   "cell_type": "markdown",
   "metadata": {},
   "source": []
  }
 ],
 "metadata": {
  "kernelspec": {
   "display_name": "Python 3",
   "language": "python",
   "name": "python3"
  },
  "language_info": {
   "name": "python",
   "version": "3.13.0"
  }
 },
 "nbformat": 4,
 "nbformat_minor": 2
}
